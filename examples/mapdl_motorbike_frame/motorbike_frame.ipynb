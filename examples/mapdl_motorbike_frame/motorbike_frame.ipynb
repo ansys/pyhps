{
 "cells": [
  {
   "cell_type": "markdown",
   "id": "33155fc3-db14-423a-9b75-2ca1b4de0b11",
   "metadata": {},
   "source": [
    "# DCS parametric MAPDL simulation\n",
    "\n",
    "Create a DCS project consisting of an ANSYS APDL beam model\n",
    "of a tubular steel trellis motorbike-frame.\n",
    "\n",
    "After creating the project job_definition, a number of design points with randomly \n",
    "chosen parameter values are created and set to pending.\n",
    "\n",
    "For further details about the model and its parametrization, see e.g.\n",
    "\"Using Evolutionary Methods with a Heterogeneous Genotype Representation \n",
    "for Design Optimization of a Tubular Steel Trellis Motorbike-Frame\", 2003\n",
    "by U. M. Fasel, O. Koenig, M. Wintermantel and P. Ermanni.\n",
    "\n"
   ]
  },
  {
   "cell_type": "code",
   "execution_count": 11,
   "id": "86e49e2e-4935-42ad-8d3a-31eb1c185fc4",
   "metadata": {},
   "outputs": [],
   "source": [
    "import os\n",
    "import random\n",
    "import time\n",
    "import logging\n",
    "\n",
    "from ansys.hps.client.jms import (Client, JobDefinition, Job, File,\n",
    "                                  FitnessDefinition, Project, SuccessCriteria, Licensing)"
   ]
  },
  {
   "cell_type": "code",
   "execution_count": 6,
   "id": "99b4b41d-2c79-47bd-ac23-0901fc58f96f",
   "metadata": {},
   "outputs": [
    {
     "name": "stderr",
     "output_type": "stream",
     "text": [
      "Start logging\n"
     ]
    }
   ],
   "source": [
    "logger = logging.getLogger()\n",
    "logging.basicConfig(format='%(message)s', level=logging.DEBUG)\n",
    "log = logging.getLogger(__name__)\n",
    "log.info(\"Start logging\")"
   ]
  },
  {
   "cell_type": "markdown",
   "id": "dd624633-7ce7-48a0-bf39-995734b1d407",
   "metadata": {},
   "source": [
    "### Connect to DCS"
   ]
  },
  {
   "cell_type": "code",
   "execution_count": 7,
   "id": "cc9d0a2b-fa15-4338-b8d4-3a29d9380dbd",
   "metadata": {},
   "outputs": [
    {
     "name": "stderr",
     "output_type": "stream",
     "text": [
      "Authenticate on https://ec2-18-185-40-216.eu-central-1.compute.amazonaws.com/dcs/auth/api with user demo and password\n",
      "Starting new HTTPS connection (1): ec2-18-185-40-216.eu-central-1.compute.amazonaws.com:443\n",
      "https://ec2-18-185-40-216.eu-central-1.compute.amazonaws.com:443 \"POST /dcs/auth/api/oauth/token HTTP/1.1\" 200 None\n",
      "Authentication successful, returning tokens\n"
     ]
    },
    {
     "name": "stdout",
     "output_type": "stream",
     "text": [
      "https://ec2-18-185-40-216.eu-central-1.compute.amazonaws.com/dcs\n"
     ]
    }
   ],
   "source": [
    "client = Client(rep_url=\"https://ec2-18-185-40-216.eu-central-1.compute.amazonaws.com/dcs\", username=\"demo\", password=\"tnz\")\n",
    "print(client.rep_url)"
   ]
  },
  {
   "cell_type": "markdown",
   "id": "e5b25e2b-3c05-4de0-b35f-b279e404b73a",
   "metadata": {},
   "source": [
    "### Create DCS project"
   ]
  },
  {
   "cell_type": "code",
   "execution_count": 8,
   "id": "ab146270-6ecd-45c3-b9a1-ad23724988a8",
   "metadata": {},
   "outputs": [
    {
     "name": "stderr",
     "output_type": "stream",
     "text": [
      "=== Project\n",
      "Starting new HTTPS connection (1): ec2-18-185-40-216.eu-central-1.compute.amazonaws.com:443\n",
      "https://ec2-18-185-40-216.eu-central-1.compute.amazonaws.com:443 \"POST /dcs/dps/api//projects/ HTTP/1.1\" 201 1164\n",
      "=== Files\n",
      "https://ec2-18-185-40-216.eu-central-1.compute.amazonaws.com:443 \"POST /dcs/dps/api//projects/mapdl_motorbike_frame/files?fields=all HTTP/1.1\" 201 3052\n",
      "https://ec2-18-185-40-216.eu-central-1.compute.amazonaws.com:443 \"POST /dcs/fs/api/v1/mapdl_motorbike_frame/1_mac HTTP/1.1\" 200 47\n",
      "https://ec2-18-185-40-216.eu-central-1.compute.amazonaws.com:443 \"POST /dcs/fs/api/v1/mapdl_motorbike_frame/2_results HTTP/1.1\" 200 47\n",
      "https://ec2-18-185-40-216.eu-central-1.compute.amazonaws.com:443 \"PUT /dcs/dps/api//projects/mapdl_motorbike_frame/files?fields=all HTTP/1.1\" 200 3112\n",
      "=== JobDefinition with simulation workflow and parameters\n",
      "https://ec2-18-185-40-216.eu-central-1.compute.amazonaws.com:443 \"POST /dcs/dps/api//projects/mapdl_motorbike_frame/job_definitions?fields=all HTTP/1.1\" 201 62092\n"
     ]
    }
   ],
   "source": [
    "log.debug(\"=== Project\")\n",
    "\n",
    "proj_id=\"mapdl_motorbike_frame\"\n",
    "proj = Project(id=proj_id, display_name=\"MAPDL Motorbike Frame\", priority=1, active=True)\n",
    "proj = client.create_project(proj, replace=True)\n",
    "\n",
    "log.debug(\"=== Files\")\n",
    "files = []\n",
    "files.append(File(name=\"mac\", evaluation_path=\"motorbike_frame.mac\",\n",
    "                  type=\"text/plain\", src=os.path.join(\"motorbike_frame.mac\")))\n",
    "files.append(File(name=\"results\", evaluation_path=\"motorbike_frame_results.txt\",\n",
    "                  type=\"text/plain\", src=os.path.join(\"motorbike_frame_results.txt\")))\n",
    "files.append(File(name=\"out\", evaluation_path=\"file.out\", type=\"text/plain\", collect=True, monitor=True))\n",
    "files.append(File(name=\"img\", evaluation_path=\"**.jpg\", type=\"image/jpeg\", collect=True))\n",
    "files.append(File(name=\"err\", evaluation_path=\"file*.err\", type=\"text/plain\", collect=True, monitor=True))\n",
    "\n",
    "# Alternative, not recommended way, will collect ALL files matching file.*\n",
    "#files.append( File( name=\"all_files\", evaluation_path=\"file.*\", type=\"text/plain\") )\n",
    "\n",
    "files = proj.create_files(files)\n",
    "file_ids = {f.name: f.id for f in files}\n",
    "\n",
    "log.debug(\"=== JobDefinition with simulation workflow and parameters\")\n",
    "job_def = JobDefinition(name=\"JobDefinition.1\", active=True)\n",
    "\n",
    "# Input params: Dimensions of three custom tubes\n",
    "float_input_params=[]\n",
    "for i in range(1,4):\n",
    "    pd=job_def.add_float_parameter_definition(name='tube%i_radius' %i, lower_limit=4.0, upper_limit=20.0,default=12.0 )\n",
    "    job_def.add_parameter_mapping(key_string='radius(%i)' % i, tokenizer=\"=\", parameter_definition_name=pd.name, file_id=file_ids[\"mac\"])\n",
    "    float_input_params.append(pd)\n",
    "\n",
    "    pd=job_def.add_float_parameter_definition(name='tube%i_thickness' %i,lower_limit=0.5, upper_limit=2.5, default=1.0 )\n",
    "    job_def.add_parameter_mapping(key_string='thickness(%i)' % i, tokenizer=\"=\", parameter_definition_name=pd.name, file_id=file_ids[\"mac\"])\n",
    "    float_input_params.append(pd)\n",
    "\n",
    "# Input params: Custom types used for all the different tubes of the frame\n",
    "str_input_params=[]\n",
    "for i in range(1,22):\n",
    "    pd=job_def.add_string_parameter_definition(name=\"tube%s\" %i, default=\"1\", value_list=[\"1\",\"2\",\"3\"] )\n",
    "    job_def.add_parameter_mapping(key_string='tubes(%i)' % i, tokenizer=\"=\", parameter_definition_name=pd.name, file_id=file_ids[\"mac\"])\n",
    "    str_input_params.append(pd)\n",
    "\n",
    "# Output Parames\n",
    "for pname in [\"weight\", \"torsion_stiffness\", \"max_stress\"]:\n",
    "    pd=job_def.add_float_parameter_definition(name=pname)\n",
    "    job_def.add_parameter_mapping(key_string=pname, tokenizer=\"=\", parameter_definition_name=pd.name, file_id=file_ids[\"results\"])\n",
    "\n",
    "# Collect some runtime stats from MAPDL out file\n",
    "pd=job_def.add_float_parameter_definition(name=\"mapdl_elapsed_time_obtain_license\")\n",
    "job_def.add_parameter_mapping(key_string=\"Elapsed time spent obtaining a license\", tokenizer=\":\", parameter_definition_name=pd.name, file_id=file_ids[\"out\"])\n",
    "pd=job_def.add_float_parameter_definition(name=\"mapdl_cp_time\")\n",
    "job_def.add_parameter_mapping(key_string=\"CP Time      (sec)\", tokenizer=\"=\", parameter_definition_name=pd.name, file_id=file_ids[\"out\"])\n",
    "pd=job_def.add_float_parameter_definition(name=\"mapdl_elapsed_time\")\n",
    "job_def.add_parameter_mapping(key_string=\"Elapsed Time (sec)\", tokenizer=\"=\", parameter_definition_name=pd.name, file_id=file_ids[\"out\"])\n",
    "\n",
    "# Process step\n",
    "job_def.add_task_definition(   name=\"MAPDL_run\", \n",
    "                        application_name=\"ANSYS Mechanical APDL\",\n",
    "                        application_version=\"2022 R2\",\n",
    "                        execution_command=\"%executable% -b -i %file:mac% -o file.out -np %resource:num_cores%\",\n",
    "                        max_execution_time=50.0,\n",
    "                        cpu_core_usage=1.0,\n",
    "                        execution_level=0,\n",
    "                        memory=250,\n",
    "                        disk_space=5,\n",
    "                        num_trials=1,\n",
    "                        input_file_ids=[f.id for f in files[:1]], \n",
    "                        output_file_ids=[f.id for f in files[1:]], \n",
    "                        success_criteria= SuccessCriteria(\n",
    "                            return_code=0,\n",
    "                            expressions= [\"values['tube1_radius']>=4.0\", \"values['tube1_thickness']>=0.5\"],\n",
    "                            required_output_file_ids=[ file_ids[\"results\"] ],\n",
    "                            require_all_output_files=False,\n",
    "                            require_all_output_parameters=True\n",
    "                        ),\n",
    "                        licensing = Licensing(enable_shared_licensing=False) # Shared licensing disabled by default\n",
    "                    )\n",
    "\n",
    "# For demonstration purpose we also define some parameter replacements that refer to process step properties\n",
    "job_def.add_parameter_mapping(key_string='name', tokenizer=\"=\", string_quote=\"'\", task_definition_property=\"name\", file_id=file_ids[\"mac\"])\n",
    "job_def.add_parameter_mapping(key_string='application_name', tokenizer=\"=\", string_quote=\"'\", task_definition_property=\"application_name\", file_id=file_ids[\"mac\"])\n",
    "job_def.add_parameter_mapping(key_string='num_cores', tokenizer=\"=\", task_definition_property=\"num_cores\", file_id=file_ids[\"mac\"])\n",
    "job_def.add_parameter_mapping(key_string='cpu_core_usage', tokenizer=\"=\", task_definition_property=\"cpu_core_usage\", file_id=file_ids[\"mac\"])\n",
    "\n",
    "# Optional fitness definition\n",
    "fd = FitnessDefinition(error_fitness=10.0)\n",
    "fd.add_fitness_term(name=\"weight\", type=\"design_objective\", weighting_factor=1.0,\n",
    "                    expression=\"map_design_objective( values['weight'], 7.5, 5.5)\")\n",
    "fd.add_fitness_term(name=\"torsional_stiffness\", type=\"target_constraint\", weighting_factor=1.0,\n",
    "                expression=\"map_target_constraint( values['torsion_stiffness'], 1313.0, 5.0, 30.0 )\" )\n",
    "fd.add_fitness_term(name=\"max_stress\", type=\"limit_constraint\", weighting_factor=1.0,\n",
    "                expression=\"map_limit_constraint( values['max_stress'], 451.0, 50.0 )\") \n",
    "job_def.fitness_definition =fd\n",
    "\n",
    "# Create job_definition in project\n",
    "job_def=proj.create_job_definitions([job_def])[0]"
   ]
  },
  {
   "cell_type": "markdown",
   "id": "9edce71f-8d23-4a31-b430-2d3f565567e1",
   "metadata": {},
   "source": [
    "### Create design points"
   ]
  },
  {
   "cell_type": "code",
   "execution_count": 9,
   "id": "8b085fe1-c38d-4c46-804e-01fc96f54b24",
   "metadata": {},
   "outputs": [
    {
     "name": "stderr",
     "output_type": "stream",
     "text": [
      "=== Create 500 design points\n",
      "https://ec2-18-185-40-216.eu-central-1.compute.amazonaws.com:443 \"POST /dcs/dps/api//projects/mapdl_motorbike_frame/jobs?fields=all HTTP/1.1\" 201 1112321\n"
     ]
    }
   ],
   "source": [
    "num_jobs=500\n",
    "log.debug( f\"=== Create {num_jobs} design points\" )\n",
    "dps=[]\n",
    "for i in range(num_jobs):\n",
    "    values = { p.name : p.lower_limit + random.random()*(p.upper_limit-p.lower_limit)  for p in float_input_params }\n",
    "    values.update({ p.name: random.choice(p.value_list) for p in str_input_params})\n",
    "    dps.append( Job( name=f\"Job.{i}\", values=values, eval_status=\"pending\") )\n",
    "dps=job_def.create_jobs(dps)"
   ]
  },
  {
   "cell_type": "markdown",
   "id": "df20fd95-3596-4b3b-af4c-e50110e2ea7f",
   "metadata": {},
   "source": [
    "### Wait for first 50 design points being evaluated"
   ]
  },
  {
   "cell_type": "code",
   "execution_count": 30,
   "id": "e83cbcd0-f516-4a55-99d1-f94bd5420199",
   "metadata": {},
   "outputs": [
    {
     "name": "stderr",
     "output_type": "stream",
     "text": [
      "Resetting dropped connection: ec2-18-185-40-216.eu-central-1.compute.amazonaws.com\n",
      "https://ec2-18-185-40-216.eu-central-1.compute.amazonaws.com:443 \"GET /dcs/dps/api//projects/mapdl_motorbike_frame/job_definitions/1/jobs?eval_status=evaluated&fields=all HTTP/1.1\" 200 484578\n"
     ]
    },
    {
     "name": "stdout",
     "output_type": "stream",
     "text": [
      "Number of evaluated design points: 187\n"
     ]
    }
   ],
   "source": [
    "dps=[]\n",
    "while len(dps)<25:\n",
    "    dps=job_def.get_jobs(eval_status='evaluated')\n",
    "    print(f\"Number of evaluated design points: {len(dps)}\")\n",
    "    time.sleep(5)"
   ]
  },
  {
   "cell_type": "markdown",
   "id": "c2bbd254-aad8-4d0e-ace8-4a9487eb9cb5",
   "metadata": {},
   "source": [
    "### Plot some results"
   ]
  },
  {
   "cell_type": "code",
   "execution_count": 31,
   "id": "f3e40ce4-1643-4b47-8d3d-d7393284b147",
   "metadata": {},
   "outputs": [
    {
     "name": "stdout",
     "output_type": "stream",
     "text": [
      "param: tube1_radius\n",
      "param: tube1_thickness\n",
      "param: tube2_radius\n",
      "param: tube2_thickness\n",
      "param: tube3_radius\n",
      "param: tube3_thickness\n",
      "param: mapdl_elapsed_time_obtain_license\n",
      "param: mapdl_cp_time\n",
      "param: mapdl_elapsed_time\n",
      "param: weight\n",
      "param: torsion_stiffness\n",
      "param: max_stress\n",
      "param: tube1\n",
      "param: tube2\n",
      "param: tube3\n",
      "param: tube4\n",
      "param: tube5\n",
      "param: tube6\n",
      "param: tube7\n",
      "param: tube8\n",
      "param: tube9\n",
      "param: tube10\n",
      "param: tube11\n",
      "param: tube12\n",
      "param: tube13\n",
      "param: tube14\n",
      "param: tube15\n",
      "param: tube16\n",
      "param: tube17\n",
      "param: tube18\n",
      "param: tube19\n",
      "param: tube20\n",
      "param: tube21\n"
     ]
    }
   ],
   "source": [
    "values = {}\n",
    "for param_name,value in dps[0].values.items():\n",
    "    print(f\"param: {param_name}\")\n",
    "    param_values = [ dp.values[param_name] for dp in dps ]\n",
    "    values[param_name]= param_values\n",
    "values['id'] = [ dp.id for dp in dps ]\n",
    "import pandas as pd\n",
    "df= pd.DataFrame(values)\n",
    "#print(\"---\")\n",
    "#print(df)"
   ]
  },
  {
   "cell_type": "code",
   "execution_count": 32,
   "id": "8d1ccb65-71ca-4d55-ad7e-d59d4d9b3948",
   "metadata": {},
   "outputs": [
    {
     "data": {
      "application/vnd.plotly.v1+json": {
       "config": {
        "plotlyServerURL": "https://plot.ly"
       },
       "data": [
        {
         "alignmentgroup": "True",
         "bingroup": "x",
         "hovertemplate": "weight=%{x}<br>count=%{y}<extra></extra>",
         "legendgroup": "",
         "marker": {
          "color": "#636efa",
          "pattern": {
           "shape": ""
          }
         },
         "name": "",
         "nbinsx": 20,
         "offsetgroup": "",
         "orientation": "v",
         "showlegend": false,
         "type": "histogram",
         "x": [
          9.76657508,
          8.56657979,
          8.66197345,
          6.69647363,
          8.63906276,
          7.75939879,
          4.84080744,
          5.70625179,
          10.40788634,
          4.13213835,
          10.85116767,
          12.36302635,
          6.5426365,
          6.07444705,
          8.63858024,
          5.70113438,
          4.78143412,
          7.70776608,
          7.04969484,
          8.97729346,
          7.94196092,
          6.64865507,
          8.43289057,
          7.47878262,
          5.01002164,
          6.15924617,
          4.59574812,
          3.68563721,
          5.65507397,
          9.87722159,
          7.42712888,
          9.71474677,
          4.85593001,
          8.35031777,
          6.17954994,
          9.10963196,
          6.88834922,
          5.77229055,
          9.2492708,
          7.9365736,
          2.95322204,
          5.29243576,
          7.86761086,
          10.57908583,
          8.23325802,
          8.2014482,
          12.17403906,
          12.00206412,
          4.80209306,
          8.25199413,
          7.69925619,
          10.19750982,
          9.95271341,
          2.51164081,
          6.33563192,
          7.29637438,
          3.18141767,
          6.6716512,
          8.23994296,
          3.76364708,
          9.61258736,
          10.47767531,
          10.2761224,
          5.92336281,
          9.54364697,
          5.14088519,
          8.4861294,
          8.53210113,
          8.6578462,
          11.31528326,
          11.02356351,
          5.13737409,
          6.64893147,
          7.41745504,
          8.3396673,
          7.57153224,
          3.90813435,
          6.12254513,
          5.75030263,
          7.1266902,
          8.48763652,
          3.45911015,
          3.96706005,
          6.49881408,
          6.59184151,
          5.79636945,
          3.22215761,
          4.53329364,
          7.1142825,
          7.03493698,
          7.35892468,
          6.52528417,
          3.18014946,
          10.29159368,
          7.9684108,
          8.43736408,
          6.1624461,
          8.18859993,
          6.16964548,
          13.25033243,
          7.05984056,
          8.5009233,
          8.7500706,
          7.72074364,
          10.1416817,
          6.64427625,
          5.88626187,
          7.09721842,
          8.61957344,
          10.48237788,
          5.5629953,
          7.67843288,
          7.68703239,
          5.50233832,
          4.45688547,
          3.70683683,
          8.53466669,
          4.86790123,
          9.23726344,
          7.34686388,
          8.53839367,
          5.62331435,
          5.41720569,
          10.50488422,
          5.33984548,
          9.19473103,
          4.3771988,
          5.33431898,
          6.27255886,
          5.78530425,
          3.6185746,
          11.13215852,
          5.69640154,
          10.98402301,
          5.50161262,
          6.3108099,
          5.25394228,
          5.72998505,
          4.69736372,
          7.66503418,
          7.31731731,
          8.49987771,
          4.64112749,
          8.89262564,
          7.61886156,
          5.68652237,
          7.70621775,
          8.41436133,
          7.42913082,
          6.38445081,
          6.28658436,
          3.98723467,
          5.58891705,
          4.18531967,
          3.5842174,
          6.32929774,
          5.30586097,
          3.9997267,
          6.977546,
          7.98364975,
          4.63754786,
          7.03690577,
          6.92642357,
          11.1920442,
          11.84308323,
          9.1246867,
          9.28684451,
          7.9244532,
          7.74634042,
          5.7252392,
          6.68237933,
          7.38727086,
          11.36606564,
          10.92263108,
          9.04596043,
          9.53640801,
          7.20281653,
          8.45800739,
          8.1973408,
          10.89259692,
          6.29891688,
          4.64664884,
          3.67163337,
          8.74042557,
          5.72894109,
          10.01994782,
          9.31596677
         ],
         "xaxis": "x",
         "yaxis": "y"
        }
       ],
       "layout": {
        "autosize": true,
        "barmode": "relative",
        "legend": {
         "tracegroupgap": 0
        },
        "margin": {
         "t": 60
        },
        "template": {
         "data": {
          "bar": [
           {
            "error_x": {
             "color": "#f2f5fa"
            },
            "error_y": {
             "color": "#f2f5fa"
            },
            "marker": {
             "line": {
              "color": "rgb(17,17,17)",
              "width": 0.5
             },
             "pattern": {
              "fillmode": "overlay",
              "size": 10,
              "solidity": 0.2
             }
            },
            "type": "bar"
           }
          ],
          "barpolar": [
           {
            "marker": {
             "line": {
              "color": "rgb(17,17,17)",
              "width": 0.5
             },
             "pattern": {
              "fillmode": "overlay",
              "size": 10,
              "solidity": 0.2
             }
            },
            "type": "barpolar"
           }
          ],
          "carpet": [
           {
            "aaxis": {
             "endlinecolor": "#A2B1C6",
             "gridcolor": "#506784",
             "linecolor": "#506784",
             "minorgridcolor": "#506784",
             "startlinecolor": "#A2B1C6"
            },
            "baxis": {
             "endlinecolor": "#A2B1C6",
             "gridcolor": "#506784",
             "linecolor": "#506784",
             "minorgridcolor": "#506784",
             "startlinecolor": "#A2B1C6"
            },
            "type": "carpet"
           }
          ],
          "choropleth": [
           {
            "colorbar": {
             "outlinewidth": 0,
             "ticks": ""
            },
            "type": "choropleth"
           }
          ],
          "contour": [
           {
            "colorbar": {
             "outlinewidth": 0,
             "ticks": ""
            },
            "colorscale": [
             [
              0,
              "#0d0887"
             ],
             [
              0.1111111111111111,
              "#46039f"
             ],
             [
              0.2222222222222222,
              "#7201a8"
             ],
             [
              0.3333333333333333,
              "#9c179e"
             ],
             [
              0.4444444444444444,
              "#bd3786"
             ],
             [
              0.5555555555555556,
              "#d8576b"
             ],
             [
              0.6666666666666666,
              "#ed7953"
             ],
             [
              0.7777777777777778,
              "#fb9f3a"
             ],
             [
              0.8888888888888888,
              "#fdca26"
             ],
             [
              1,
              "#f0f921"
             ]
            ],
            "type": "contour"
           }
          ],
          "contourcarpet": [
           {
            "colorbar": {
             "outlinewidth": 0,
             "ticks": ""
            },
            "type": "contourcarpet"
           }
          ],
          "heatmap": [
           {
            "colorbar": {
             "outlinewidth": 0,
             "ticks": ""
            },
            "colorscale": [
             [
              0,
              "#0d0887"
             ],
             [
              0.1111111111111111,
              "#46039f"
             ],
             [
              0.2222222222222222,
              "#7201a8"
             ],
             [
              0.3333333333333333,
              "#9c179e"
             ],
             [
              0.4444444444444444,
              "#bd3786"
             ],
             [
              0.5555555555555556,
              "#d8576b"
             ],
             [
              0.6666666666666666,
              "#ed7953"
             ],
             [
              0.7777777777777778,
              "#fb9f3a"
             ],
             [
              0.8888888888888888,
              "#fdca26"
             ],
             [
              1,
              "#f0f921"
             ]
            ],
            "type": "heatmap"
           }
          ],
          "heatmapgl": [
           {
            "colorbar": {
             "outlinewidth": 0,
             "ticks": ""
            },
            "colorscale": [
             [
              0,
              "#0d0887"
             ],
             [
              0.1111111111111111,
              "#46039f"
             ],
             [
              0.2222222222222222,
              "#7201a8"
             ],
             [
              0.3333333333333333,
              "#9c179e"
             ],
             [
              0.4444444444444444,
              "#bd3786"
             ],
             [
              0.5555555555555556,
              "#d8576b"
             ],
             [
              0.6666666666666666,
              "#ed7953"
             ],
             [
              0.7777777777777778,
              "#fb9f3a"
             ],
             [
              0.8888888888888888,
              "#fdca26"
             ],
             [
              1,
              "#f0f921"
             ]
            ],
            "type": "heatmapgl"
           }
          ],
          "histogram": [
           {
            "marker": {
             "pattern": {
              "fillmode": "overlay",
              "size": 10,
              "solidity": 0.2
             }
            },
            "type": "histogram"
           }
          ],
          "histogram2d": [
           {
            "colorbar": {
             "outlinewidth": 0,
             "ticks": ""
            },
            "colorscale": [
             [
              0,
              "#0d0887"
             ],
             [
              0.1111111111111111,
              "#46039f"
             ],
             [
              0.2222222222222222,
              "#7201a8"
             ],
             [
              0.3333333333333333,
              "#9c179e"
             ],
             [
              0.4444444444444444,
              "#bd3786"
             ],
             [
              0.5555555555555556,
              "#d8576b"
             ],
             [
              0.6666666666666666,
              "#ed7953"
             ],
             [
              0.7777777777777778,
              "#fb9f3a"
             ],
             [
              0.8888888888888888,
              "#fdca26"
             ],
             [
              1,
              "#f0f921"
             ]
            ],
            "type": "histogram2d"
           }
          ],
          "histogram2dcontour": [
           {
            "colorbar": {
             "outlinewidth": 0,
             "ticks": ""
            },
            "colorscale": [
             [
              0,
              "#0d0887"
             ],
             [
              0.1111111111111111,
              "#46039f"
             ],
             [
              0.2222222222222222,
              "#7201a8"
             ],
             [
              0.3333333333333333,
              "#9c179e"
             ],
             [
              0.4444444444444444,
              "#bd3786"
             ],
             [
              0.5555555555555556,
              "#d8576b"
             ],
             [
              0.6666666666666666,
              "#ed7953"
             ],
             [
              0.7777777777777778,
              "#fb9f3a"
             ],
             [
              0.8888888888888888,
              "#fdca26"
             ],
             [
              1,
              "#f0f921"
             ]
            ],
            "type": "histogram2dcontour"
           }
          ],
          "mesh3d": [
           {
            "colorbar": {
             "outlinewidth": 0,
             "ticks": ""
            },
            "type": "mesh3d"
           }
          ],
          "parcoords": [
           {
            "line": {
             "colorbar": {
              "outlinewidth": 0,
              "ticks": ""
             }
            },
            "type": "parcoords"
           }
          ],
          "pie": [
           {
            "automargin": true,
            "type": "pie"
           }
          ],
          "scatter": [
           {
            "marker": {
             "line": {
              "color": "#283442"
             }
            },
            "type": "scatter"
           }
          ],
          "scatter3d": [
           {
            "line": {
             "colorbar": {
              "outlinewidth": 0,
              "ticks": ""
             }
            },
            "marker": {
             "colorbar": {
              "outlinewidth": 0,
              "ticks": ""
             }
            },
            "type": "scatter3d"
           }
          ],
          "scattercarpet": [
           {
            "marker": {
             "colorbar": {
              "outlinewidth": 0,
              "ticks": ""
             }
            },
            "type": "scattercarpet"
           }
          ],
          "scattergeo": [
           {
            "marker": {
             "colorbar": {
              "outlinewidth": 0,
              "ticks": ""
             }
            },
            "type": "scattergeo"
           }
          ],
          "scattergl": [
           {
            "marker": {
             "line": {
              "color": "#283442"
             }
            },
            "type": "scattergl"
           }
          ],
          "scattermapbox": [
           {
            "marker": {
             "colorbar": {
              "outlinewidth": 0,
              "ticks": ""
             }
            },
            "type": "scattermapbox"
           }
          ],
          "scatterpolar": [
           {
            "marker": {
             "colorbar": {
              "outlinewidth": 0,
              "ticks": ""
             }
            },
            "type": "scatterpolar"
           }
          ],
          "scatterpolargl": [
           {
            "marker": {
             "colorbar": {
              "outlinewidth": 0,
              "ticks": ""
             }
            },
            "type": "scatterpolargl"
           }
          ],
          "scatterternary": [
           {
            "marker": {
             "colorbar": {
              "outlinewidth": 0,
              "ticks": ""
             }
            },
            "type": "scatterternary"
           }
          ],
          "surface": [
           {
            "colorbar": {
             "outlinewidth": 0,
             "ticks": ""
            },
            "colorscale": [
             [
              0,
              "#0d0887"
             ],
             [
              0.1111111111111111,
              "#46039f"
             ],
             [
              0.2222222222222222,
              "#7201a8"
             ],
             [
              0.3333333333333333,
              "#9c179e"
             ],
             [
              0.4444444444444444,
              "#bd3786"
             ],
             [
              0.5555555555555556,
              "#d8576b"
             ],
             [
              0.6666666666666666,
              "#ed7953"
             ],
             [
              0.7777777777777778,
              "#fb9f3a"
             ],
             [
              0.8888888888888888,
              "#fdca26"
             ],
             [
              1,
              "#f0f921"
             ]
            ],
            "type": "surface"
           }
          ],
          "table": [
           {
            "cells": {
             "fill": {
              "color": "#506784"
             },
             "line": {
              "color": "rgb(17,17,17)"
             }
            },
            "header": {
             "fill": {
              "color": "#2a3f5f"
             },
             "line": {
              "color": "rgb(17,17,17)"
             }
            },
            "type": "table"
           }
          ]
         },
         "layout": {
          "annotationdefaults": {
           "arrowcolor": "#f2f5fa",
           "arrowhead": 0,
           "arrowwidth": 1
          },
          "autotypenumbers": "strict",
          "coloraxis": {
           "colorbar": {
            "outlinewidth": 0,
            "ticks": ""
           }
          },
          "colorscale": {
           "diverging": [
            [
             0,
             "#8e0152"
            ],
            [
             0.1,
             "#c51b7d"
            ],
            [
             0.2,
             "#de77ae"
            ],
            [
             0.3,
             "#f1b6da"
            ],
            [
             0.4,
             "#fde0ef"
            ],
            [
             0.5,
             "#f7f7f7"
            ],
            [
             0.6,
             "#e6f5d0"
            ],
            [
             0.7,
             "#b8e186"
            ],
            [
             0.8,
             "#7fbc41"
            ],
            [
             0.9,
             "#4d9221"
            ],
            [
             1,
             "#276419"
            ]
           ],
           "sequential": [
            [
             0,
             "#0d0887"
            ],
            [
             0.1111111111111111,
             "#46039f"
            ],
            [
             0.2222222222222222,
             "#7201a8"
            ],
            [
             0.3333333333333333,
             "#9c179e"
            ],
            [
             0.4444444444444444,
             "#bd3786"
            ],
            [
             0.5555555555555556,
             "#d8576b"
            ],
            [
             0.6666666666666666,
             "#ed7953"
            ],
            [
             0.7777777777777778,
             "#fb9f3a"
            ],
            [
             0.8888888888888888,
             "#fdca26"
            ],
            [
             1,
             "#f0f921"
            ]
           ],
           "sequentialminus": [
            [
             0,
             "#0d0887"
            ],
            [
             0.1111111111111111,
             "#46039f"
            ],
            [
             0.2222222222222222,
             "#7201a8"
            ],
            [
             0.3333333333333333,
             "#9c179e"
            ],
            [
             0.4444444444444444,
             "#bd3786"
            ],
            [
             0.5555555555555556,
             "#d8576b"
            ],
            [
             0.6666666666666666,
             "#ed7953"
            ],
            [
             0.7777777777777778,
             "#fb9f3a"
            ],
            [
             0.8888888888888888,
             "#fdca26"
            ],
            [
             1,
             "#f0f921"
            ]
           ]
          },
          "colorway": [
           "#636efa",
           "#EF553B",
           "#00cc96",
           "#ab63fa",
           "#FFA15A",
           "#19d3f3",
           "#FF6692",
           "#B6E880",
           "#FF97FF",
           "#FECB52"
          ],
          "font": {
           "color": "#f2f5fa"
          },
          "geo": {
           "bgcolor": "rgb(17,17,17)",
           "lakecolor": "rgb(17,17,17)",
           "landcolor": "rgb(17,17,17)",
           "showlakes": true,
           "showland": true,
           "subunitcolor": "#506784"
          },
          "hoverlabel": {
           "align": "left"
          },
          "hovermode": "closest",
          "mapbox": {
           "style": "dark"
          },
          "paper_bgcolor": "rgb(17,17,17)",
          "plot_bgcolor": "rgb(17,17,17)",
          "polar": {
           "angularaxis": {
            "gridcolor": "#506784",
            "linecolor": "#506784",
            "ticks": ""
           },
           "bgcolor": "rgb(17,17,17)",
           "radialaxis": {
            "gridcolor": "#506784",
            "linecolor": "#506784",
            "ticks": ""
           }
          },
          "scene": {
           "xaxis": {
            "backgroundcolor": "rgb(17,17,17)",
            "gridcolor": "#506784",
            "gridwidth": 2,
            "linecolor": "#506784",
            "showbackground": true,
            "ticks": "",
            "zerolinecolor": "#C8D4E3"
           },
           "yaxis": {
            "backgroundcolor": "rgb(17,17,17)",
            "gridcolor": "#506784",
            "gridwidth": 2,
            "linecolor": "#506784",
            "showbackground": true,
            "ticks": "",
            "zerolinecolor": "#C8D4E3"
           },
           "zaxis": {
            "backgroundcolor": "rgb(17,17,17)",
            "gridcolor": "#506784",
            "gridwidth": 2,
            "linecolor": "#506784",
            "showbackground": true,
            "ticks": "",
            "zerolinecolor": "#C8D4E3"
           }
          },
          "shapedefaults": {
           "line": {
            "color": "#f2f5fa"
           }
          },
          "sliderdefaults": {
           "bgcolor": "#C8D4E3",
           "bordercolor": "rgb(17,17,17)",
           "borderwidth": 1,
           "tickwidth": 0
          },
          "ternary": {
           "aaxis": {
            "gridcolor": "#506784",
            "linecolor": "#506784",
            "ticks": ""
           },
           "baxis": {
            "gridcolor": "#506784",
            "linecolor": "#506784",
            "ticks": ""
           },
           "bgcolor": "rgb(17,17,17)",
           "caxis": {
            "gridcolor": "#506784",
            "linecolor": "#506784",
            "ticks": ""
           }
          },
          "title": {
           "x": 0.05
          },
          "updatemenudefaults": {
           "bgcolor": "#506784",
           "borderwidth": 0
          },
          "xaxis": {
           "automargin": true,
           "gridcolor": "#283442",
           "linecolor": "#506784",
           "ticks": "",
           "title": {
            "standoff": 15
           },
           "zerolinecolor": "#283442",
           "zerolinewidth": 2
          },
          "yaxis": {
           "automargin": true,
           "gridcolor": "#283442",
           "linecolor": "#506784",
           "ticks": "",
           "title": {
            "standoff": 15
           },
           "zerolinecolor": "#283442",
           "zerolinewidth": 2
          }
         }
        },
        "xaxis": {
         "anchor": "y",
         "autorange": true,
         "domain": [
          0,
          1
         ],
         "range": [
          2,
          14
         ],
         "title": {
          "text": "weight"
         },
         "type": "linear"
        },
        "yaxis": {
         "anchor": "x",
         "autorange": true,
         "domain": [
          0,
          1
         ],
         "range": [
          0,
          35.78947368421053
         ],
         "title": {
          "text": "count"
         }
        }
       }
      },
      "image/png": "[encoded data removed]",
      "text/html": [
       "<div>                            <div id=\"d8e1c7d3-3d4c-4977-b74f-9577cc526466\" class=\"plotly-graph-div\" style=\"height:525px; width:100%;\"></div>            <script type=\"text/javascript\">                require([\"plotly\"], function(Plotly) {                    window.PLOTLYENV=window.PLOTLYENV || {};                                    if (document.getElementById(\"d8e1c7d3-3d4c-4977-b74f-9577cc526466\")) {                    Plotly.newPlot(                        \"d8e1c7d3-3d4c-4977-b74f-9577cc526466\",                        [{\"alignmentgroup\":\"True\",\"bingroup\":\"x\",\"hovertemplate\":\"weight=%{x}<br>count=%{y}<extra></extra>\",\"legendgroup\":\"\",\"marker\":{\"color\":\"#636efa\",\"pattern\":{\"shape\":\"\"}},\"name\":\"\",\"nbinsx\":20,\"offsetgroup\":\"\",\"orientation\":\"v\",\"showlegend\":false,\"x\":[9.76657508,8.56657979,8.66197345,6.69647363,8.63906276,7.75939879,4.84080744,5.70625179,10.40788634,4.13213835,10.85116767,12.36302635,6.5426365,6.07444705,8.63858024,5.70113438,4.78143412,7.70776608,7.04969484,8.97729346,7.94196092,6.64865507,8.43289057,7.47878262,5.01002164,6.15924617,4.59574812,3.68563721,5.65507397,9.87722159,7.42712888,9.71474677,4.85593001,8.35031777,6.17954994,9.10963196,6.88834922,5.77229055,9.2492708,7.9365736,2.95322204,5.29243576,7.86761086,10.57908583,8.23325802,8.2014482,12.17403906,12.00206412,4.80209306,8.25199413,7.69925619,10.19750982,9.95271341,2.51164081,6.33563192,7.29637438,3.18141767,6.6716512,8.23994296,3.76364708,9.61258736,10.47767531,10.2761224,5.92336281,9.54364697,5.14088519,8.4861294,8.53210113,8.6578462,11.31528326,11.02356351,5.13737409,6.64893147,7.41745504,8.3396673,7.57153224,3.90813435,6.12254513,5.75030263,7.1266902,8.48763652,3.45911015,3.96706005,6.49881408,6.59184151,5.79636945,3.22215761,4.53329364,7.1142825,7.03493698,7.35892468,6.52528417,3.18014946,10.29159368,7.9684108,8.43736408,6.1624461,8.18859993,6.16964548,13.25033243,7.05984056,8.5009233,8.7500706,7.72074364,10.1416817,6.64427625,5.88626187,7.09721842,8.61957344,10.48237788,5.5629953,7.67843288,7.68703239,5.50233832,4.45688547,3.70683683,8.53466669,4.86790123,9.23726344,7.34686388,8.53839367,5.62331435,5.41720569,10.50488422,5.33984548,9.19473103,4.3771988,5.33431898,6.27255886,5.78530425,3.6185746,11.13215852,5.69640154,10.98402301,5.50161262,6.3108099,5.25394228,5.72998505,4.69736372,7.66503418,7.31731731,8.49987771,4.64112749,8.89262564,7.61886156,5.68652237,7.70621775,8.41436133,7.42913082,6.38445081,6.28658436,3.98723467,5.58891705,4.18531967,3.5842174,6.32929774,5.30586097,3.9997267,6.977546,7.98364975,4.63754786,7.03690577,6.92642357,11.1920442,11.84308323,9.1246867,9.28684451,7.9244532,7.74634042,5.7252392,6.68237933,7.38727086,11.36606564,10.92263108,9.04596043,9.53640801,7.20281653,8.45800739,8.1973408,10.89259692,6.29891688,4.64664884,3.67163337,8.74042557,5.72894109,10.01994782,9.31596677],\"xaxis\":\"x\",\"yaxis\":\"y\",\"type\":\"histogram\"}],                        {\"template\":{\"data\":{\"barpolar\":[{\"marker\":{\"line\":{\"color\":\"rgb(17,17,17)\",\"width\":0.5},\"pattern\":{\"fillmode\":\"overlay\",\"size\":10,\"solidity\":0.2}},\"type\":\"barpolar\"}],\"bar\":[{\"error_x\":{\"color\":\"#f2f5fa\"},\"error_y\":{\"color\":\"#f2f5fa\"},\"marker\":{\"line\":{\"color\":\"rgb(17,17,17)\",\"width\":0.5},\"pattern\":{\"fillmode\":\"overlay\",\"size\":10,\"solidity\":0.2}},\"type\":\"bar\"}],\"carpet\":[{\"aaxis\":{\"endlinecolor\":\"#A2B1C6\",\"gridcolor\":\"#506784\",\"linecolor\":\"#506784\",\"minorgridcolor\":\"#506784\",\"startlinecolor\":\"#A2B1C6\"},\"baxis\":{\"endlinecolor\":\"#A2B1C6\",\"gridcolor\":\"#506784\",\"linecolor\":\"#506784\",\"minorgridcolor\":\"#506784\",\"startlinecolor\":\"#A2B1C6\"},\"type\":\"carpet\"}],\"choropleth\":[{\"colorbar\":{\"outlinewidth\":0,\"ticks\":\"\"},\"type\":\"choropleth\"}],\"contourcarpet\":[{\"colorbar\":{\"outlinewidth\":0,\"ticks\":\"\"},\"type\":\"contourcarpet\"}],\"contour\":[{\"colorbar\":{\"outlinewidth\":0,\"ticks\":\"\"},\"colorscale\":[[0.0,\"#0d0887\"],[0.1111111111111111,\"#46039f\"],[0.2222222222222222,\"#7201a8\"],[0.3333333333333333,\"#9c179e\"],[0.4444444444444444,\"#bd3786\"],[0.5555555555555556,\"#d8576b\"],[0.6666666666666666,\"#ed7953\"],[0.7777777777777778,\"#fb9f3a\"],[0.8888888888888888,\"#fdca26\"],[1.0,\"#f0f921\"]],\"type\":\"contour\"}],\"heatmapgl\":[{\"colorbar\":{\"outlinewidth\":0,\"ticks\":\"\"},\"colorscale\":[[0.0,\"#0d0887\"],[0.1111111111111111,\"#46039f\"],[0.2222222222222222,\"#7201a8\"],[0.3333333333333333,\"#9c179e\"],[0.4444444444444444,\"#bd3786\"],[0.5555555555555556,\"#d8576b\"],[0.6666666666666666,\"#ed7953\"],[0.7777777777777778,\"#fb9f3a\"],[0.8888888888888888,\"#fdca26\"],[1.0,\"#f0f921\"]],\"type\":\"heatmapgl\"}],\"heatmap\":[{\"colorbar\":{\"outlinewidth\":0,\"ticks\":\"\"},\"colorscale\":[[0.0,\"#0d0887\"],[0.1111111111111111,\"#46039f\"],[0.2222222222222222,\"#7201a8\"],[0.3333333333333333,\"#9c179e\"],[0.4444444444444444,\"#bd3786\"],[0.5555555555555556,\"#d8576b\"],[0.6666666666666666,\"#ed7953\"],[0.7777777777777778,\"#fb9f3a\"],[0.8888888888888888,\"#fdca26\"],[1.0,\"#f0f921\"]],\"type\":\"heatmap\"}],\"histogram2dcontour\":[{\"colorbar\":{\"outlinewidth\":0,\"ticks\":\"\"},\"colorscale\":[[0.0,\"#0d0887\"],[0.1111111111111111,\"#46039f\"],[0.2222222222222222,\"#7201a8\"],[0.3333333333333333,\"#9c179e\"],[0.4444444444444444,\"#bd3786\"],[0.5555555555555556,\"#d8576b\"],[0.6666666666666666,\"#ed7953\"],[0.7777777777777778,\"#fb9f3a\"],[0.8888888888888888,\"#fdca26\"],[1.0,\"#f0f921\"]],\"type\":\"histogram2dcontour\"}],\"histogram2d\":[{\"colorbar\":{\"outlinewidth\":0,\"ticks\":\"\"},\"colorscale\":[[0.0,\"#0d0887\"],[0.1111111111111111,\"#46039f\"],[0.2222222222222222,\"#7201a8\"],[0.3333333333333333,\"#9c179e\"],[0.4444444444444444,\"#bd3786\"],[0.5555555555555556,\"#d8576b\"],[0.6666666666666666,\"#ed7953\"],[0.7777777777777778,\"#fb9f3a\"],[0.8888888888888888,\"#fdca26\"],[1.0,\"#f0f921\"]],\"type\":\"histogram2d\"}],\"histogram\":[{\"marker\":{\"pattern\":{\"fillmode\":\"overlay\",\"size\":10,\"solidity\":0.2}},\"type\":\"histogram\"}],\"mesh3d\":[{\"colorbar\":{\"outlinewidth\":0,\"ticks\":\"\"},\"type\":\"mesh3d\"}],\"parcoords\":[{\"line\":{\"colorbar\":{\"outlinewidth\":0,\"ticks\":\"\"}},\"type\":\"parcoords\"}],\"pie\":[{\"automargin\":true,\"type\":\"pie\"}],\"scatter3d\":[{\"line\":{\"colorbar\":{\"outlinewidth\":0,\"ticks\":\"\"}},\"marker\":{\"colorbar\":{\"outlinewidth\":0,\"ticks\":\"\"}},\"type\":\"scatter3d\"}],\"scattercarpet\":[{\"marker\":{\"colorbar\":{\"outlinewidth\":0,\"ticks\":\"\"}},\"type\":\"scattercarpet\"}],\"scattergeo\":[{\"marker\":{\"colorbar\":{\"outlinewidth\":0,\"ticks\":\"\"}},\"type\":\"scattergeo\"}],\"scattergl\":[{\"marker\":{\"line\":{\"color\":\"#283442\"}},\"type\":\"scattergl\"}],\"scattermapbox\":[{\"marker\":{\"colorbar\":{\"outlinewidth\":0,\"ticks\":\"\"}},\"type\":\"scattermapbox\"}],\"scatterpolargl\":[{\"marker\":{\"colorbar\":{\"outlinewidth\":0,\"ticks\":\"\"}},\"type\":\"scatterpolargl\"}],\"scatterpolar\":[{\"marker\":{\"colorbar\":{\"outlinewidth\":0,\"ticks\":\"\"}},\"type\":\"scatterpolar\"}],\"scatter\":[{\"marker\":{\"line\":{\"color\":\"#283442\"}},\"type\":\"scatter\"}],\"scatterternary\":[{\"marker\":{\"colorbar\":{\"outlinewidth\":0,\"ticks\":\"\"}},\"type\":\"scatterternary\"}],\"surface\":[{\"colorbar\":{\"outlinewidth\":0,\"ticks\":\"\"},\"colorscale\":[[0.0,\"#0d0887\"],[0.1111111111111111,\"#46039f\"],[0.2222222222222222,\"#7201a8\"],[0.3333333333333333,\"#9c179e\"],[0.4444444444444444,\"#bd3786\"],[0.5555555555555556,\"#d8576b\"],[0.6666666666666666,\"#ed7953\"],[0.7777777777777778,\"#fb9f3a\"],[0.8888888888888888,\"#fdca26\"],[1.0,\"#f0f921\"]],\"type\":\"surface\"}],\"table\":[{\"cells\":{\"fill\":{\"color\":\"#506784\"},\"line\":{\"color\":\"rgb(17,17,17)\"}},\"header\":{\"fill\":{\"color\":\"#2a3f5f\"},\"line\":{\"color\":\"rgb(17,17,17)\"}},\"type\":\"table\"}]},\"layout\":{\"annotationdefaults\":{\"arrowcolor\":\"#f2f5fa\",\"arrowhead\":0,\"arrowwidth\":1},\"autotypenumbers\":\"strict\",\"coloraxis\":{\"colorbar\":{\"outlinewidth\":0,\"ticks\":\"\"}},\"colorscale\":{\"diverging\":[[0,\"#8e0152\"],[0.1,\"#c51b7d\"],[0.2,\"#de77ae\"],[0.3,\"#f1b6da\"],[0.4,\"#fde0ef\"],[0.5,\"#f7f7f7\"],[0.6,\"#e6f5d0\"],[0.7,\"#b8e186\"],[0.8,\"#7fbc41\"],[0.9,\"#4d9221\"],[1,\"#276419\"]],\"sequential\":[[0.0,\"#0d0887\"],[0.1111111111111111,\"#46039f\"],[0.2222222222222222,\"#7201a8\"],[0.3333333333333333,\"#9c179e\"],[0.4444444444444444,\"#bd3786\"],[0.5555555555555556,\"#d8576b\"],[0.6666666666666666,\"#ed7953\"],[0.7777777777777778,\"#fb9f3a\"],[0.8888888888888888,\"#fdca26\"],[1.0,\"#f0f921\"]],\"sequentialminus\":[[0.0,\"#0d0887\"],[0.1111111111111111,\"#46039f\"],[0.2222222222222222,\"#7201a8\"],[0.3333333333333333,\"#9c179e\"],[0.4444444444444444,\"#bd3786\"],[0.5555555555555556,\"#d8576b\"],[0.6666666666666666,\"#ed7953\"],[0.7777777777777778,\"#fb9f3a\"],[0.8888888888888888,\"#fdca26\"],[1.0,\"#f0f921\"]]},\"colorway\":[\"#636efa\",\"#EF553B\",\"#00cc96\",\"#ab63fa\",\"#FFA15A\",\"#19d3f3\",\"#FF6692\",\"#B6E880\",\"#FF97FF\",\"#FECB52\"],\"font\":{\"color\":\"#f2f5fa\"},\"geo\":{\"bgcolor\":\"rgb(17,17,17)\",\"lakecolor\":\"rgb(17,17,17)\",\"landcolor\":\"rgb(17,17,17)\",\"showlakes\":true,\"showland\":true,\"subunitcolor\":\"#506784\"},\"hoverlabel\":{\"align\":\"left\"},\"hovermode\":\"closest\",\"mapbox\":{\"style\":\"dark\"},\"paper_bgcolor\":\"rgb(17,17,17)\",\"plot_bgcolor\":\"rgb(17,17,17)\",\"polar\":{\"angularaxis\":{\"gridcolor\":\"#506784\",\"linecolor\":\"#506784\",\"ticks\":\"\"},\"bgcolor\":\"rgb(17,17,17)\",\"radialaxis\":{\"gridcolor\":\"#506784\",\"linecolor\":\"#506784\",\"ticks\":\"\"}},\"scene\":{\"xaxis\":{\"backgroundcolor\":\"rgb(17,17,17)\",\"gridcolor\":\"#506784\",\"gridwidth\":2,\"linecolor\":\"#506784\",\"showbackground\":true,\"ticks\":\"\",\"zerolinecolor\":\"#C8D4E3\"},\"yaxis\":{\"backgroundcolor\":\"rgb(17,17,17)\",\"gridcolor\":\"#506784\",\"gridwidth\":2,\"linecolor\":\"#506784\",\"showbackground\":true,\"ticks\":\"\",\"zerolinecolor\":\"#C8D4E3\"},\"zaxis\":{\"backgroundcolor\":\"rgb(17,17,17)\",\"gridcolor\":\"#506784\",\"gridwidth\":2,\"linecolor\":\"#506784\",\"showbackground\":true,\"ticks\":\"\",\"zerolinecolor\":\"#C8D4E3\"}},\"shapedefaults\":{\"line\":{\"color\":\"#f2f5fa\"}},\"sliderdefaults\":{\"bgcolor\":\"#C8D4E3\",\"bordercolor\":\"rgb(17,17,17)\",\"borderwidth\":1,\"tickwidth\":0},\"ternary\":{\"aaxis\":{\"gridcolor\":\"#506784\",\"linecolor\":\"#506784\",\"ticks\":\"\"},\"baxis\":{\"gridcolor\":\"#506784\",\"linecolor\":\"#506784\",\"ticks\":\"\"},\"bgcolor\":\"rgb(17,17,17)\",\"caxis\":{\"gridcolor\":\"#506784\",\"linecolor\":\"#506784\",\"ticks\":\"\"}},\"title\":{\"x\":0.05},\"updatemenudefaults\":{\"bgcolor\":\"#506784\",\"borderwidth\":0},\"xaxis\":{\"automargin\":true,\"gridcolor\":\"#283442\",\"linecolor\":\"#506784\",\"ticks\":\"\",\"title\":{\"standoff\":15},\"zerolinecolor\":\"#283442\",\"zerolinewidth\":2},\"yaxis\":{\"automargin\":true,\"gridcolor\":\"#283442\",\"linecolor\":\"#506784\",\"ticks\":\"\",\"title\":{\"standoff\":15},\"zerolinecolor\":\"#283442\",\"zerolinewidth\":2}}},\"xaxis\":{\"anchor\":\"y\",\"domain\":[0.0,1.0],\"title\":{\"text\":\"weight\"}},\"yaxis\":{\"anchor\":\"x\",\"domain\":[0.0,1.0],\"title\":{\"text\":\"count\"}},\"legend\":{\"tracegroupgap\":0},\"margin\":{\"t\":60},\"barmode\":\"relative\"},                        {\"responsive\": true}                    ).then(function(){\n",
       "                            \n",
       "var gd = document.getElementById('d8e1c7d3-3d4c-4977-b74f-9577cc526466');\n",
       "var x = new MutationObserver(function (mutations, observer) {{\n",
       "        var display = window.getComputedStyle(gd).display;\n",
       "        if (!display || display === 'none') {{\n",
       "            console.log([gd, 'removed!']);\n",
       "            Plotly.purge(gd);\n",
       "            observer.disconnect();\n",
       "        }}\n",
       "}});\n",
       "\n",
       "// Listen for the removal of the full notebook cells\n",
       "var notebookContainer = gd.closest('#notebook-container');\n",
       "if (notebookContainer) {{\n",
       "    x.observe(notebookContainer, {childList: true});\n",
       "}}\n",
       "\n",
       "// Listen for the clearing of the current output cell\n",
       "var outputEl = gd.closest('.output');\n",
       "if (outputEl) {{\n",
       "    x.observe(outputEl, {childList: true});\n",
       "}}\n",
       "\n",
       "                        })                };                });            </script>        </div>"
      ]
     },
     "metadata": {},
     "output_type": "display_data"
    },
    {
     "data": {
      "application/vnd.plotly.v1+json": {
       "config": {
        "plotlyServerURL": "https://plot.ly"
       },
       "data": [
        {
         "hovertemplate": "weight=%{x}<br>max_stress=%{y}<extra></extra>",
         "legendgroup": "",
         "marker": {
          "color": "#636efa",
          "symbol": "circle"
         },
         "mode": "markers",
         "name": "",
         "orientation": "v",
         "showlegend": false,
         "type": "scatter",
         "x": [
          9.76657508,
          8.56657979,
          8.66197345,
          6.69647363,
          8.63906276,
          7.75939879,
          4.84080744,
          5.70625179,
          10.40788634,
          4.13213835,
          10.85116767,
          12.36302635,
          6.5426365,
          6.07444705,
          8.63858024,
          5.70113438,
          4.78143412,
          7.70776608,
          7.04969484,
          8.97729346,
          7.94196092,
          6.64865507,
          8.43289057,
          7.47878262,
          5.01002164,
          6.15924617,
          4.59574812,
          3.68563721,
          5.65507397,
          9.87722159,
          7.42712888,
          9.71474677,
          4.85593001,
          8.35031777,
          6.17954994,
          9.10963196,
          6.88834922,
          5.77229055,
          9.2492708,
          7.9365736,
          2.95322204,
          5.29243576,
          7.86761086,
          10.57908583,
          8.23325802,
          8.2014482,
          12.17403906,
          12.00206412,
          4.80209306,
          8.25199413,
          7.69925619,
          10.19750982,
          9.95271341,
          2.51164081,
          6.33563192,
          7.29637438,
          3.18141767,
          6.6716512,
          8.23994296,
          3.76364708,
          9.61258736,
          10.47767531,
          10.2761224,
          5.92336281,
          9.54364697,
          5.14088519,
          8.4861294,
          8.53210113,
          8.6578462,
          11.31528326,
          11.02356351,
          5.13737409,
          6.64893147,
          7.41745504,
          8.3396673,
          7.57153224,
          3.90813435,
          6.12254513,
          5.75030263,
          7.1266902,
          8.48763652,
          3.45911015,
          3.96706005,
          6.49881408,
          6.59184151,
          5.79636945,
          3.22215761,
          4.53329364,
          7.1142825,
          7.03493698,
          7.35892468,
          6.52528417,
          3.18014946,
          10.29159368,
          7.9684108,
          8.43736408,
          6.1624461,
          8.18859993,
          6.16964548,
          13.25033243,
          7.05984056,
          8.5009233,
          8.7500706,
          7.72074364,
          10.1416817,
          6.64427625,
          5.88626187,
          7.09721842,
          8.61957344,
          10.48237788,
          5.5629953,
          7.67843288,
          7.68703239,
          5.50233832,
          4.45688547,
          3.70683683,
          8.53466669,
          4.86790123,
          9.23726344,
          7.34686388,
          8.53839367,
          5.62331435,
          5.41720569,
          10.50488422,
          5.33984548,
          9.19473103,
          4.3771988,
          5.33431898,
          6.27255886,
          5.78530425,
          3.6185746,
          11.13215852,
          5.69640154,
          10.98402301,
          5.50161262,
          6.3108099,
          5.25394228,
          5.72998505,
          4.69736372,
          7.66503418,
          7.31731731,
          8.49987771,
          4.64112749,
          8.89262564,
          7.61886156,
          5.68652237,
          7.70621775,
          8.41436133,
          7.42913082,
          6.38445081,
          6.28658436,
          3.98723467,
          5.58891705,
          4.18531967,
          3.5842174,
          6.32929774,
          5.30586097,
          3.9997267,
          6.977546,
          7.98364975,
          4.63754786,
          7.03690577,
          6.92642357,
          11.1920442,
          11.84308323,
          9.1246867,
          9.28684451,
          7.9244532,
          7.74634042,
          5.7252392,
          6.68237933,
          7.38727086,
          11.36606564,
          10.92263108,
          9.04596043,
          9.53640801,
          7.20281653,
          8.45800739,
          8.1973408,
          10.89259692,
          6.29891688,
          4.64664884,
          3.67163337,
          8.74042557,
          5.72894109,
          10.01994782,
          9.31596677
         ],
         "xaxis": "x",
         "y": [
          281.12317878,
          220.00608147,
          235.54514709,
          360.19539158,
          280.13411394,
          248.35300749,
          452.1490342,
          997.91116863,
          187.17274739,
          1016.43578925,
          203.36922013,
          150.4366771,
          275.26915195,
          462.28366794,
          259.53245106,
          431.83769364,
          420.04944477,
          278.65664154,
          504.80732411,
          463.7414856,
          249.11133475,
          361.02807478,
          285.40419977,
          267.58795057,
          484.53098351,
          411.90269249,
          547.81146792,
          785.77633134,
          354.47395718,
          162.5209617,
          302.03361182,
          244.16757202,
          533.41162493,
          374.35743763,
          572.97351074,
          236.42478943,
          490.62124431,
          786.43529093,
          405.58168774,
          320.56271561,
          1264.72568059,
          485.93968546,
          419.57724136,
          161.64251628,
          197.86607782,
          265.47898697,
          192.34692703,
          126.14662933,
          402.36053467,
          234.20761454,
          341.22536191,
          130.38529968,
          225.61631176,
          1560.7598594,
          341.37031374,
          401.30586022,
          1281.3852511,
          411.03845383,
          292.45185674,
          871.79661104,
          208.66664357,
          116.32260895,
          132.85457398,
          592.35138866,
          501.36651702,
          613.69598378,
          424.57785958,
          211.67041375,
          219.76026286,
          129.73263601,
          300.44789294,
          645.58309219,
          214.97919261,
          468.46212711,
          334.91764475,
          417.57052612,
          599.45933379,
          285.66346387,
          585.28900037,
          181.58709879,
          219.58886828,
          788.40491821,
          963.87163386,
          478.35443115,
          265.52318471,
          796.3388533,
          1507.79866701,
          807.20703464,
          286.55103877,
          353.53511426,
          253.10704218,
          429.86469784,
          1085.02061321,
          203.82207348,
          190.89226543,
          631.62182617,
          355.9193007,
          235.65842253,
          295.44067336,
          124.89218016,
          215.47488831,
          199.92252441,
          228.11931403,
          366.28912354,
          315.33392873,
          360.29170069,
          270.87986337,
          298.98876336,
          288.64573743,
          216.83002352,
          617.32758551,
          191.26427455,
          224.92240325,
          504.07906807,
          500.65527819,
          972.2393428,
          183.15201448,
          789.18267548,
          224.13594055,
          449.86820004,
          456.17843556,
          653.12618142,
          479.42583423,
          287.95389174,
          404.56388693,
          420.12223226,
          702.1326759,
          438.6185449,
          389.50116814,
          366.15201171,
          783.46005354,
          159.60997318,
          379.19924302,
          208.3782752,
          651.02235459,
          243.46254943,
          877.18414307,
          579.53817856,
          413.97244739,
          316.82280219,
          311.00691714,
          244.97330672,
          623.47907164,
          194.49865553,
          214.9149657,
          924.89508534,
          287.40368014,
          255.1209633,
          455.34954215,
          375.05221093,
          217.28548472,
          871.68445315,
          537.22456607,
          776.22077057,
          890.63612502,
          636.04439856,
          491.91208959,
          416.65054393,
          268.41768399,
          233.45554479,
          530.49067444,
          290.79122981,
          233.51155255,
          117.77681864,
          170.60606384,
          313.1460815,
          152.72761004,
          255.25708061,
          305.12405754,
          337.31262811,
          239.19112397,
          288.41101074,
          125.3825717,
          128.02492289,
          202.73990192,
          193.60554203,
          216.78724421,
          231.47456138,
          208.58769933,
          559.66352907,
          293.09666514,
          1060.45186872,
          874.49581493,
          388.37952553,
          886.08009498,
          155.55509949,
          164.32139904
         ],
         "yaxis": "y"
        }
       ],
       "layout": {
        "autosize": true,
        "legend": {
         "tracegroupgap": 0
        },
        "margin": {
         "t": 60
        },
        "template": {
         "data": {
          "bar": [
           {
            "error_x": {
             "color": "#f2f5fa"
            },
            "error_y": {
             "color": "#f2f5fa"
            },
            "marker": {
             "line": {
              "color": "rgb(17,17,17)",
              "width": 0.5
             },
             "pattern": {
              "fillmode": "overlay",
              "size": 10,
              "solidity": 0.2
             }
            },
            "type": "bar"
           }
          ],
          "barpolar": [
           {
            "marker": {
             "line": {
              "color": "rgb(17,17,17)",
              "width": 0.5
             },
             "pattern": {
              "fillmode": "overlay",
              "size": 10,
              "solidity": 0.2
             }
            },
            "type": "barpolar"
           }
          ],
          "carpet": [
           {
            "aaxis": {
             "endlinecolor": "#A2B1C6",
             "gridcolor": "#506784",
             "linecolor": "#506784",
             "minorgridcolor": "#506784",
             "startlinecolor": "#A2B1C6"
            },
            "baxis": {
             "endlinecolor": "#A2B1C6",
             "gridcolor": "#506784",
             "linecolor": "#506784",
             "minorgridcolor": "#506784",
             "startlinecolor": "#A2B1C6"
            },
            "type": "carpet"
           }
          ],
          "choropleth": [
           {
            "colorbar": {
             "outlinewidth": 0,
             "ticks": ""
            },
            "type": "choropleth"
           }
          ],
          "contour": [
           {
            "colorbar": {
             "outlinewidth": 0,
             "ticks": ""
            },
            "colorscale": [
             [
              0,
              "#0d0887"
             ],
             [
              0.1111111111111111,
              "#46039f"
             ],
             [
              0.2222222222222222,
              "#7201a8"
             ],
             [
              0.3333333333333333,
              "#9c179e"
             ],
             [
              0.4444444444444444,
              "#bd3786"
             ],
             [
              0.5555555555555556,
              "#d8576b"
             ],
             [
              0.6666666666666666,
              "#ed7953"
             ],
             [
              0.7777777777777778,
              "#fb9f3a"
             ],
             [
              0.8888888888888888,
              "#fdca26"
             ],
             [
              1,
              "#f0f921"
             ]
            ],
            "type": "contour"
           }
          ],
          "contourcarpet": [
           {
            "colorbar": {
             "outlinewidth": 0,
             "ticks": ""
            },
            "type": "contourcarpet"
           }
          ],
          "heatmap": [
           {
            "colorbar": {
             "outlinewidth": 0,
             "ticks": ""
            },
            "colorscale": [
             [
              0,
              "#0d0887"
             ],
             [
              0.1111111111111111,
              "#46039f"
             ],
             [
              0.2222222222222222,
              "#7201a8"
             ],
             [
              0.3333333333333333,
              "#9c179e"
             ],
             [
              0.4444444444444444,
              "#bd3786"
             ],
             [
              0.5555555555555556,
              "#d8576b"
             ],
             [
              0.6666666666666666,
              "#ed7953"
             ],
             [
              0.7777777777777778,
              "#fb9f3a"
             ],
             [
              0.8888888888888888,
              "#fdca26"
             ],
             [
              1,
              "#f0f921"
             ]
            ],
            "type": "heatmap"
           }
          ],
          "heatmapgl": [
           {
            "colorbar": {
             "outlinewidth": 0,
             "ticks": ""
            },
            "colorscale": [
             [
              0,
              "#0d0887"
             ],
             [
              0.1111111111111111,
              "#46039f"
             ],
             [
              0.2222222222222222,
              "#7201a8"
             ],
             [
              0.3333333333333333,
              "#9c179e"
             ],
             [
              0.4444444444444444,
              "#bd3786"
             ],
             [
              0.5555555555555556,
              "#d8576b"
             ],
             [
              0.6666666666666666,
              "#ed7953"
             ],
             [
              0.7777777777777778,
              "#fb9f3a"
             ],
             [
              0.8888888888888888,
              "#fdca26"
             ],
             [
              1,
              "#f0f921"
             ]
            ],
            "type": "heatmapgl"
           }
          ],
          "histogram": [
           {
            "marker": {
             "pattern": {
              "fillmode": "overlay",
              "size": 10,
              "solidity": 0.2
             }
            },
            "type": "histogram"
           }
          ],
          "histogram2d": [
           {
            "colorbar": {
             "outlinewidth": 0,
             "ticks": ""
            },
            "colorscale": [
             [
              0,
              "#0d0887"
             ],
             [
              0.1111111111111111,
              "#46039f"
             ],
             [
              0.2222222222222222,
              "#7201a8"
             ],
             [
              0.3333333333333333,
              "#9c179e"
             ],
             [
              0.4444444444444444,
              "#bd3786"
             ],
             [
              0.5555555555555556,
              "#d8576b"
             ],
             [
              0.6666666666666666,
              "#ed7953"
             ],
             [
              0.7777777777777778,
              "#fb9f3a"
             ],
             [
              0.8888888888888888,
              "#fdca26"
             ],
             [
              1,
              "#f0f921"
             ]
            ],
            "type": "histogram2d"
           }
          ],
          "histogram2dcontour": [
           {
            "colorbar": {
             "outlinewidth": 0,
             "ticks": ""
            },
            "colorscale": [
             [
              0,
              "#0d0887"
             ],
             [
              0.1111111111111111,
              "#46039f"
             ],
             [
              0.2222222222222222,
              "#7201a8"
             ],
             [
              0.3333333333333333,
              "#9c179e"
             ],
             [
              0.4444444444444444,
              "#bd3786"
             ],
             [
              0.5555555555555556,
              "#d8576b"
             ],
             [
              0.6666666666666666,
              "#ed7953"
             ],
             [
              0.7777777777777778,
              "#fb9f3a"
             ],
             [
              0.8888888888888888,
              "#fdca26"
             ],
             [
              1,
              "#f0f921"
             ]
            ],
            "type": "histogram2dcontour"
           }
          ],
          "mesh3d": [
           {
            "colorbar": {
             "outlinewidth": 0,
             "ticks": ""
            },
            "type": "mesh3d"
           }
          ],
          "parcoords": [
           {
            "line": {
             "colorbar": {
              "outlinewidth": 0,
              "ticks": ""
             }
            },
            "type": "parcoords"
           }
          ],
          "pie": [
           {
            "automargin": true,
            "type": "pie"
           }
          ],
          "scatter": [
           {
            "marker": {
             "line": {
              "color": "#283442"
             }
            },
            "type": "scatter"
           }
          ],
          "scatter3d": [
           {
            "line": {
             "colorbar": {
              "outlinewidth": 0,
              "ticks": ""
             }
            },
            "marker": {
             "colorbar": {
              "outlinewidth": 0,
              "ticks": ""
             }
            },
            "type": "scatter3d"
           }
          ],
          "scattercarpet": [
           {
            "marker": {
             "colorbar": {
              "outlinewidth": 0,
              "ticks": ""
             }
            },
            "type": "scattercarpet"
           }
          ],
          "scattergeo": [
           {
            "marker": {
             "colorbar": {
              "outlinewidth": 0,
              "ticks": ""
             }
            },
            "type": "scattergeo"
           }
          ],
          "scattergl": [
           {
            "marker": {
             "line": {
              "color": "#283442"
             }
            },
            "type": "scattergl"
           }
          ],
          "scattermapbox": [
           {
            "marker": {
             "colorbar": {
              "outlinewidth": 0,
              "ticks": ""
             }
            },
            "type": "scattermapbox"
           }
          ],
          "scatterpolar": [
           {
            "marker": {
             "colorbar": {
              "outlinewidth": 0,
              "ticks": ""
             }
            },
            "type": "scatterpolar"
           }
          ],
          "scatterpolargl": [
           {
            "marker": {
             "colorbar": {
              "outlinewidth": 0,
              "ticks": ""
             }
            },
            "type": "scatterpolargl"
           }
          ],
          "scatterternary": [
           {
            "marker": {
             "colorbar": {
              "outlinewidth": 0,
              "ticks": ""
             }
            },
            "type": "scatterternary"
           }
          ],
          "surface": [
           {
            "colorbar": {
             "outlinewidth": 0,
             "ticks": ""
            },
            "colorscale": [
             [
              0,
              "#0d0887"
             ],
             [
              0.1111111111111111,
              "#46039f"
             ],
             [
              0.2222222222222222,
              "#7201a8"
             ],
             [
              0.3333333333333333,
              "#9c179e"
             ],
             [
              0.4444444444444444,
              "#bd3786"
             ],
             [
              0.5555555555555556,
              "#d8576b"
             ],
             [
              0.6666666666666666,
              "#ed7953"
             ],
             [
              0.7777777777777778,
              "#fb9f3a"
             ],
             [
              0.8888888888888888,
              "#fdca26"
             ],
             [
              1,
              "#f0f921"
             ]
            ],
            "type": "surface"
           }
          ],
          "table": [
           {
            "cells": {
             "fill": {
              "color": "#506784"
             },
             "line": {
              "color": "rgb(17,17,17)"
             }
            },
            "header": {
             "fill": {
              "color": "#2a3f5f"
             },
             "line": {
              "color": "rgb(17,17,17)"
             }
            },
            "type": "table"
           }
          ]
         },
         "layout": {
          "annotationdefaults": {
           "arrowcolor": "#f2f5fa",
           "arrowhead": 0,
           "arrowwidth": 1
          },
          "autotypenumbers": "strict",
          "coloraxis": {
           "colorbar": {
            "outlinewidth": 0,
            "ticks": ""
           }
          },
          "colorscale": {
           "diverging": [
            [
             0,
             "#8e0152"
            ],
            [
             0.1,
             "#c51b7d"
            ],
            [
             0.2,
             "#de77ae"
            ],
            [
             0.3,
             "#f1b6da"
            ],
            [
             0.4,
             "#fde0ef"
            ],
            [
             0.5,
             "#f7f7f7"
            ],
            [
             0.6,
             "#e6f5d0"
            ],
            [
             0.7,
             "#b8e186"
            ],
            [
             0.8,
             "#7fbc41"
            ],
            [
             0.9,
             "#4d9221"
            ],
            [
             1,
             "#276419"
            ]
           ],
           "sequential": [
            [
             0,
             "#0d0887"
            ],
            [
             0.1111111111111111,
             "#46039f"
            ],
            [
             0.2222222222222222,
             "#7201a8"
            ],
            [
             0.3333333333333333,
             "#9c179e"
            ],
            [
             0.4444444444444444,
             "#bd3786"
            ],
            [
             0.5555555555555556,
             "#d8576b"
            ],
            [
             0.6666666666666666,
             "#ed7953"
            ],
            [
             0.7777777777777778,
             "#fb9f3a"
            ],
            [
             0.8888888888888888,
             "#fdca26"
            ],
            [
             1,
             "#f0f921"
            ]
           ],
           "sequentialminus": [
            [
             0,
             "#0d0887"
            ],
            [
             0.1111111111111111,
             "#46039f"
            ],
            [
             0.2222222222222222,
             "#7201a8"
            ],
            [
             0.3333333333333333,
             "#9c179e"
            ],
            [
             0.4444444444444444,
             "#bd3786"
            ],
            [
             0.5555555555555556,
             "#d8576b"
            ],
            [
             0.6666666666666666,
             "#ed7953"
            ],
            [
             0.7777777777777778,
             "#fb9f3a"
            ],
            [
             0.8888888888888888,
             "#fdca26"
            ],
            [
             1,
             "#f0f921"
            ]
           ]
          },
          "colorway": [
           "#636efa",
           "#EF553B",
           "#00cc96",
           "#ab63fa",
           "#FFA15A",
           "#19d3f3",
           "#FF6692",
           "#B6E880",
           "#FF97FF",
           "#FECB52"
          ],
          "font": {
           "color": "#f2f5fa"
          },
          "geo": {
           "bgcolor": "rgb(17,17,17)",
           "lakecolor": "rgb(17,17,17)",
           "landcolor": "rgb(17,17,17)",
           "showlakes": true,
           "showland": true,
           "subunitcolor": "#506784"
          },
          "hoverlabel": {
           "align": "left"
          },
          "hovermode": "closest",
          "mapbox": {
           "style": "dark"
          },
          "paper_bgcolor": "rgb(17,17,17)",
          "plot_bgcolor": "rgb(17,17,17)",
          "polar": {
           "angularaxis": {
            "gridcolor": "#506784",
            "linecolor": "#506784",
            "ticks": ""
           },
           "bgcolor": "rgb(17,17,17)",
           "radialaxis": {
            "gridcolor": "#506784",
            "linecolor": "#506784",
            "ticks": ""
           }
          },
          "scene": {
           "xaxis": {
            "backgroundcolor": "rgb(17,17,17)",
            "gridcolor": "#506784",
            "gridwidth": 2,
            "linecolor": "#506784",
            "showbackground": true,
            "ticks": "",
            "zerolinecolor": "#C8D4E3"
           },
           "yaxis": {
            "backgroundcolor": "rgb(17,17,17)",
            "gridcolor": "#506784",
            "gridwidth": 2,
            "linecolor": "#506784",
            "showbackground": true,
            "ticks": "",
            "zerolinecolor": "#C8D4E3"
           },
           "zaxis": {
            "backgroundcolor": "rgb(17,17,17)",
            "gridcolor": "#506784",
            "gridwidth": 2,
            "linecolor": "#506784",
            "showbackground": true,
            "ticks": "",
            "zerolinecolor": "#C8D4E3"
           }
          },
          "shapedefaults": {
           "line": {
            "color": "#f2f5fa"
           }
          },
          "sliderdefaults": {
           "bgcolor": "#C8D4E3",
           "bordercolor": "rgb(17,17,17)",
           "borderwidth": 1,
           "tickwidth": 0
          },
          "ternary": {
           "aaxis": {
            "gridcolor": "#506784",
            "linecolor": "#506784",
            "ticks": ""
           },
           "baxis": {
            "gridcolor": "#506784",
            "linecolor": "#506784",
            "ticks": ""
           },
           "bgcolor": "rgb(17,17,17)",
           "caxis": {
            "gridcolor": "#506784",
            "linecolor": "#506784",
            "ticks": ""
           }
          },
          "title": {
           "x": 0.05
          },
          "updatemenudefaults": {
           "bgcolor": "#506784",
           "borderwidth": 0
          },
          "xaxis": {
           "automargin": true,
           "gridcolor": "#283442",
           "linecolor": "#506784",
           "ticks": "",
           "title": {
            "standoff": 15
           },
           "zerolinecolor": "#283442",
           "zerolinewidth": 2
          },
          "yaxis": {
           "automargin": true,
           "gridcolor": "#283442",
           "linecolor": "#506784",
           "ticks": "",
           "title": {
            "standoff": 15
           },
           "zerolinecolor": "#283442",
           "zerolinewidth": 2
          }
         }
        },
        "xaxis": {
         "anchor": "y",
         "autorange": true,
         "domain": [
          0,
          1
         ],
         "range": [
          1.8709982502717069,
          13.890974989728294
         ],
         "title": {
          "text": "weight"
         },
         "type": "linear"
        },
        "yaxis": {
         "anchor": "x",
         "autorange": true,
         "domain": [
          0,
          1
         ],
         "range": [
          4.482979321981617,
          1672.5994890280185
         ],
         "title": {
          "text": "max_stress"
         },
         "type": "linear"
        }
       }
      },
      "image/png": "[encoded data removed]",
      "text/html": [
       "<div>                            <div id=\"a14bb8a1-cb98-49fb-a865-0a5dff41f865\" class=\"plotly-graph-div\" style=\"height:525px; width:100%;\"></div>            <script type=\"text/javascript\">                require([\"plotly\"], function(Plotly) {                    window.PLOTLYENV=window.PLOTLYENV || {};                                    if (document.getElementById(\"a14bb8a1-cb98-49fb-a865-0a5dff41f865\")) {                    Plotly.newPlot(                        \"a14bb8a1-cb98-49fb-a865-0a5dff41f865\",                        [{\"hovertemplate\":\"weight=%{x}<br>max_stress=%{y}<extra></extra>\",\"legendgroup\":\"\",\"marker\":{\"color\":\"#636efa\",\"symbol\":\"circle\"},\"mode\":\"markers\",\"name\":\"\",\"orientation\":\"v\",\"showlegend\":false,\"x\":[9.76657508,8.56657979,8.66197345,6.69647363,8.63906276,7.75939879,4.84080744,5.70625179,10.40788634,4.13213835,10.85116767,12.36302635,6.5426365,6.07444705,8.63858024,5.70113438,4.78143412,7.70776608,7.04969484,8.97729346,7.94196092,6.64865507,8.43289057,7.47878262,5.01002164,6.15924617,4.59574812,3.68563721,5.65507397,9.87722159,7.42712888,9.71474677,4.85593001,8.35031777,6.17954994,9.10963196,6.88834922,5.77229055,9.2492708,7.9365736,2.95322204,5.29243576,7.86761086,10.57908583,8.23325802,8.2014482,12.17403906,12.00206412,4.80209306,8.25199413,7.69925619,10.19750982,9.95271341,2.51164081,6.33563192,7.29637438,3.18141767,6.6716512,8.23994296,3.76364708,9.61258736,10.47767531,10.2761224,5.92336281,9.54364697,5.14088519,8.4861294,8.53210113,8.6578462,11.31528326,11.02356351,5.13737409,6.64893147,7.41745504,8.3396673,7.57153224,3.90813435,6.12254513,5.75030263,7.1266902,8.48763652,3.45911015,3.96706005,6.49881408,6.59184151,5.79636945,3.22215761,4.53329364,7.1142825,7.03493698,7.35892468,6.52528417,3.18014946,10.29159368,7.9684108,8.43736408,6.1624461,8.18859993,6.16964548,13.25033243,7.05984056,8.5009233,8.7500706,7.72074364,10.1416817,6.64427625,5.88626187,7.09721842,8.61957344,10.48237788,5.5629953,7.67843288,7.68703239,5.50233832,4.45688547,3.70683683,8.53466669,4.86790123,9.23726344,7.34686388,8.53839367,5.62331435,5.41720569,10.50488422,5.33984548,9.19473103,4.3771988,5.33431898,6.27255886,5.78530425,3.6185746,11.13215852,5.69640154,10.98402301,5.50161262,6.3108099,5.25394228,5.72998505,4.69736372,7.66503418,7.31731731,8.49987771,4.64112749,8.89262564,7.61886156,5.68652237,7.70621775,8.41436133,7.42913082,6.38445081,6.28658436,3.98723467,5.58891705,4.18531967,3.5842174,6.32929774,5.30586097,3.9997267,6.977546,7.98364975,4.63754786,7.03690577,6.92642357,11.1920442,11.84308323,9.1246867,9.28684451,7.9244532,7.74634042,5.7252392,6.68237933,7.38727086,11.36606564,10.92263108,9.04596043,9.53640801,7.20281653,8.45800739,8.1973408,10.89259692,6.29891688,4.64664884,3.67163337,8.74042557,5.72894109,10.01994782,9.31596677],\"xaxis\":\"x\",\"y\":[281.12317878,220.00608147,235.54514709,360.19539158,280.13411394,248.35300749,452.1490342,997.91116863,187.17274739,1016.43578925,203.36922013,150.4366771,275.26915195,462.28366794,259.53245106,431.83769364,420.04944477,278.65664154,504.80732411,463.7414856,249.11133475,361.02807478,285.40419977,267.58795057,484.53098351,411.90269249,547.81146792,785.77633134,354.47395718,162.5209617,302.03361182,244.16757202,533.41162493,374.35743763,572.97351074,236.42478943,490.62124431,786.43529093,405.58168774,320.56271561,1264.72568059,485.93968546,419.57724136,161.64251628,197.86607782,265.47898697,192.34692703,126.14662933,402.36053467,234.20761454,341.22536191,130.38529968,225.61631176,1560.7598594,341.37031374,401.30586022,1281.3852511,411.03845383,292.45185674,871.79661104,208.66664357,116.32260895,132.85457398,592.35138866,501.36651702,613.69598378,424.57785958,211.67041375,219.76026286,129.73263601,300.44789294,645.58309219,214.97919261,468.46212711,334.91764475,417.57052612,599.45933379,285.66346387,585.28900037,181.58709879,219.58886828,788.40491821,963.87163386,478.35443115,265.52318471,796.3388533,1507.79866701,807.20703464,286.55103877,353.53511426,253.10704218,429.86469784,1085.02061321,203.82207348,190.89226543,631.62182617,355.9193007,235.65842253,295.44067336,124.89218016,215.47488831,199.92252441,228.11931403,366.28912354,315.33392873,360.29170069,270.87986337,298.98876336,288.64573743,216.83002352,617.32758551,191.26427455,224.92240325,504.07906807,500.65527819,972.2393428,183.15201448,789.18267548,224.13594055,449.86820004,456.17843556,653.12618142,479.42583423,287.95389174,404.56388693,420.12223226,702.1326759,438.6185449,389.50116814,366.15201171,783.46005354,159.60997318,379.19924302,208.3782752,651.02235459,243.46254943,877.18414307,579.53817856,413.97244739,316.82280219,311.00691714,244.97330672,623.47907164,194.49865553,214.9149657,924.89508534,287.40368014,255.1209633,455.34954215,375.05221093,217.28548472,871.68445315,537.22456607,776.22077057,890.63612502,636.04439856,491.91208959,416.65054393,268.41768399,233.45554479,530.49067444,290.79122981,233.51155255,117.77681864,170.60606384,313.1460815,152.72761004,255.25708061,305.12405754,337.31262811,239.19112397,288.41101074,125.3825717,128.02492289,202.73990192,193.60554203,216.78724421,231.47456138,208.58769933,559.66352907,293.09666514,1060.45186872,874.49581493,388.37952553,886.08009498,155.55509949,164.32139904],\"yaxis\":\"y\",\"type\":\"scatter\"}],                        {\"template\":{\"data\":{\"barpolar\":[{\"marker\":{\"line\":{\"color\":\"rgb(17,17,17)\",\"width\":0.5},\"pattern\":{\"fillmode\":\"overlay\",\"size\":10,\"solidity\":0.2}},\"type\":\"barpolar\"}],\"bar\":[{\"error_x\":{\"color\":\"#f2f5fa\"},\"error_y\":{\"color\":\"#f2f5fa\"},\"marker\":{\"line\":{\"color\":\"rgb(17,17,17)\",\"width\":0.5},\"pattern\":{\"fillmode\":\"overlay\",\"size\":10,\"solidity\":0.2}},\"type\":\"bar\"}],\"carpet\":[{\"aaxis\":{\"endlinecolor\":\"#A2B1C6\",\"gridcolor\":\"#506784\",\"linecolor\":\"#506784\",\"minorgridcolor\":\"#506784\",\"startlinecolor\":\"#A2B1C6\"},\"baxis\":{\"endlinecolor\":\"#A2B1C6\",\"gridcolor\":\"#506784\",\"linecolor\":\"#506784\",\"minorgridcolor\":\"#506784\",\"startlinecolor\":\"#A2B1C6\"},\"type\":\"carpet\"}],\"choropleth\":[{\"colorbar\":{\"outlinewidth\":0,\"ticks\":\"\"},\"type\":\"choropleth\"}],\"contourcarpet\":[{\"colorbar\":{\"outlinewidth\":0,\"ticks\":\"\"},\"type\":\"contourcarpet\"}],\"contour\":[{\"colorbar\":{\"outlinewidth\":0,\"ticks\":\"\"},\"colorscale\":[[0.0,\"#0d0887\"],[0.1111111111111111,\"#46039f\"],[0.2222222222222222,\"#7201a8\"],[0.3333333333333333,\"#9c179e\"],[0.4444444444444444,\"#bd3786\"],[0.5555555555555556,\"#d8576b\"],[0.6666666666666666,\"#ed7953\"],[0.7777777777777778,\"#fb9f3a\"],[0.8888888888888888,\"#fdca26\"],[1.0,\"#f0f921\"]],\"type\":\"contour\"}],\"heatmapgl\":[{\"colorbar\":{\"outlinewidth\":0,\"ticks\":\"\"},\"colorscale\":[[0.0,\"#0d0887\"],[0.1111111111111111,\"#46039f\"],[0.2222222222222222,\"#7201a8\"],[0.3333333333333333,\"#9c179e\"],[0.4444444444444444,\"#bd3786\"],[0.5555555555555556,\"#d8576b\"],[0.6666666666666666,\"#ed7953\"],[0.7777777777777778,\"#fb9f3a\"],[0.8888888888888888,\"#fdca26\"],[1.0,\"#f0f921\"]],\"type\":\"heatmapgl\"}],\"heatmap\":[{\"colorbar\":{\"outlinewidth\":0,\"ticks\":\"\"},\"colorscale\":[[0.0,\"#0d0887\"],[0.1111111111111111,\"#46039f\"],[0.2222222222222222,\"#7201a8\"],[0.3333333333333333,\"#9c179e\"],[0.4444444444444444,\"#bd3786\"],[0.5555555555555556,\"#d8576b\"],[0.6666666666666666,\"#ed7953\"],[0.7777777777777778,\"#fb9f3a\"],[0.8888888888888888,\"#fdca26\"],[1.0,\"#f0f921\"]],\"type\":\"heatmap\"}],\"histogram2dcontour\":[{\"colorbar\":{\"outlinewidth\":0,\"ticks\":\"\"},\"colorscale\":[[0.0,\"#0d0887\"],[0.1111111111111111,\"#46039f\"],[0.2222222222222222,\"#7201a8\"],[0.3333333333333333,\"#9c179e\"],[0.4444444444444444,\"#bd3786\"],[0.5555555555555556,\"#d8576b\"],[0.6666666666666666,\"#ed7953\"],[0.7777777777777778,\"#fb9f3a\"],[0.8888888888888888,\"#fdca26\"],[1.0,\"#f0f921\"]],\"type\":\"histogram2dcontour\"}],\"histogram2d\":[{\"colorbar\":{\"outlinewidth\":0,\"ticks\":\"\"},\"colorscale\":[[0.0,\"#0d0887\"],[0.1111111111111111,\"#46039f\"],[0.2222222222222222,\"#7201a8\"],[0.3333333333333333,\"#9c179e\"],[0.4444444444444444,\"#bd3786\"],[0.5555555555555556,\"#d8576b\"],[0.6666666666666666,\"#ed7953\"],[0.7777777777777778,\"#fb9f3a\"],[0.8888888888888888,\"#fdca26\"],[1.0,\"#f0f921\"]],\"type\":\"histogram2d\"}],\"histogram\":[{\"marker\":{\"pattern\":{\"fillmode\":\"overlay\",\"size\":10,\"solidity\":0.2}},\"type\":\"histogram\"}],\"mesh3d\":[{\"colorbar\":{\"outlinewidth\":0,\"ticks\":\"\"},\"type\":\"mesh3d\"}],\"parcoords\":[{\"line\":{\"colorbar\":{\"outlinewidth\":0,\"ticks\":\"\"}},\"type\":\"parcoords\"}],\"pie\":[{\"automargin\":true,\"type\":\"pie\"}],\"scatter3d\":[{\"line\":{\"colorbar\":{\"outlinewidth\":0,\"ticks\":\"\"}},\"marker\":{\"colorbar\":{\"outlinewidth\":0,\"ticks\":\"\"}},\"type\":\"scatter3d\"}],\"scattercarpet\":[{\"marker\":{\"colorbar\":{\"outlinewidth\":0,\"ticks\":\"\"}},\"type\":\"scattercarpet\"}],\"scattergeo\":[{\"marker\":{\"colorbar\":{\"outlinewidth\":0,\"ticks\":\"\"}},\"type\":\"scattergeo\"}],\"scattergl\":[{\"marker\":{\"line\":{\"color\":\"#283442\"}},\"type\":\"scattergl\"}],\"scattermapbox\":[{\"marker\":{\"colorbar\":{\"outlinewidth\":0,\"ticks\":\"\"}},\"type\":\"scattermapbox\"}],\"scatterpolargl\":[{\"marker\":{\"colorbar\":{\"outlinewidth\":0,\"ticks\":\"\"}},\"type\":\"scatterpolargl\"}],\"scatterpolar\":[{\"marker\":{\"colorbar\":{\"outlinewidth\":0,\"ticks\":\"\"}},\"type\":\"scatterpolar\"}],\"scatter\":[{\"marker\":{\"line\":{\"color\":\"#283442\"}},\"type\":\"scatter\"}],\"scatterternary\":[{\"marker\":{\"colorbar\":{\"outlinewidth\":0,\"ticks\":\"\"}},\"type\":\"scatterternary\"}],\"surface\":[{\"colorbar\":{\"outlinewidth\":0,\"ticks\":\"\"},\"colorscale\":[[0.0,\"#0d0887\"],[0.1111111111111111,\"#46039f\"],[0.2222222222222222,\"#7201a8\"],[0.3333333333333333,\"#9c179e\"],[0.4444444444444444,\"#bd3786\"],[0.5555555555555556,\"#d8576b\"],[0.6666666666666666,\"#ed7953\"],[0.7777777777777778,\"#fb9f3a\"],[0.8888888888888888,\"#fdca26\"],[1.0,\"#f0f921\"]],\"type\":\"surface\"}],\"table\":[{\"cells\":{\"fill\":{\"color\":\"#506784\"},\"line\":{\"color\":\"rgb(17,17,17)\"}},\"header\":{\"fill\":{\"color\":\"#2a3f5f\"},\"line\":{\"color\":\"rgb(17,17,17)\"}},\"type\":\"table\"}]},\"layout\":{\"annotationdefaults\":{\"arrowcolor\":\"#f2f5fa\",\"arrowhead\":0,\"arrowwidth\":1},\"autotypenumbers\":\"strict\",\"coloraxis\":{\"colorbar\":{\"outlinewidth\":0,\"ticks\":\"\"}},\"colorscale\":{\"diverging\":[[0,\"#8e0152\"],[0.1,\"#c51b7d\"],[0.2,\"#de77ae\"],[0.3,\"#f1b6da\"],[0.4,\"#fde0ef\"],[0.5,\"#f7f7f7\"],[0.6,\"#e6f5d0\"],[0.7,\"#b8e186\"],[0.8,\"#7fbc41\"],[0.9,\"#4d9221\"],[1,\"#276419\"]],\"sequential\":[[0.0,\"#0d0887\"],[0.1111111111111111,\"#46039f\"],[0.2222222222222222,\"#7201a8\"],[0.3333333333333333,\"#9c179e\"],[0.4444444444444444,\"#bd3786\"],[0.5555555555555556,\"#d8576b\"],[0.6666666666666666,\"#ed7953\"],[0.7777777777777778,\"#fb9f3a\"],[0.8888888888888888,\"#fdca26\"],[1.0,\"#f0f921\"]],\"sequentialminus\":[[0.0,\"#0d0887\"],[0.1111111111111111,\"#46039f\"],[0.2222222222222222,\"#7201a8\"],[0.3333333333333333,\"#9c179e\"],[0.4444444444444444,\"#bd3786\"],[0.5555555555555556,\"#d8576b\"],[0.6666666666666666,\"#ed7953\"],[0.7777777777777778,\"#fb9f3a\"],[0.8888888888888888,\"#fdca26\"],[1.0,\"#f0f921\"]]},\"colorway\":[\"#636efa\",\"#EF553B\",\"#00cc96\",\"#ab63fa\",\"#FFA15A\",\"#19d3f3\",\"#FF6692\",\"#B6E880\",\"#FF97FF\",\"#FECB52\"],\"font\":{\"color\":\"#f2f5fa\"},\"geo\":{\"bgcolor\":\"rgb(17,17,17)\",\"lakecolor\":\"rgb(17,17,17)\",\"landcolor\":\"rgb(17,17,17)\",\"showlakes\":true,\"showland\":true,\"subunitcolor\":\"#506784\"},\"hoverlabel\":{\"align\":\"left\"},\"hovermode\":\"closest\",\"mapbox\":{\"style\":\"dark\"},\"paper_bgcolor\":\"rgb(17,17,17)\",\"plot_bgcolor\":\"rgb(17,17,17)\",\"polar\":{\"angularaxis\":{\"gridcolor\":\"#506784\",\"linecolor\":\"#506784\",\"ticks\":\"\"},\"bgcolor\":\"rgb(17,17,17)\",\"radialaxis\":{\"gridcolor\":\"#506784\",\"linecolor\":\"#506784\",\"ticks\":\"\"}},\"scene\":{\"xaxis\":{\"backgroundcolor\":\"rgb(17,17,17)\",\"gridcolor\":\"#506784\",\"gridwidth\":2,\"linecolor\":\"#506784\",\"showbackground\":true,\"ticks\":\"\",\"zerolinecolor\":\"#C8D4E3\"},\"yaxis\":{\"backgroundcolor\":\"rgb(17,17,17)\",\"gridcolor\":\"#506784\",\"gridwidth\":2,\"linecolor\":\"#506784\",\"showbackground\":true,\"ticks\":\"\",\"zerolinecolor\":\"#C8D4E3\"},\"zaxis\":{\"backgroundcolor\":\"rgb(17,17,17)\",\"gridcolor\":\"#506784\",\"gridwidth\":2,\"linecolor\":\"#506784\",\"showbackground\":true,\"ticks\":\"\",\"zerolinecolor\":\"#C8D4E3\"}},\"shapedefaults\":{\"line\":{\"color\":\"#f2f5fa\"}},\"sliderdefaults\":{\"bgcolor\":\"#C8D4E3\",\"bordercolor\":\"rgb(17,17,17)\",\"borderwidth\":1,\"tickwidth\":0},\"ternary\":{\"aaxis\":{\"gridcolor\":\"#506784\",\"linecolor\":\"#506784\",\"ticks\":\"\"},\"baxis\":{\"gridcolor\":\"#506784\",\"linecolor\":\"#506784\",\"ticks\":\"\"},\"bgcolor\":\"rgb(17,17,17)\",\"caxis\":{\"gridcolor\":\"#506784\",\"linecolor\":\"#506784\",\"ticks\":\"\"}},\"title\":{\"x\":0.05},\"updatemenudefaults\":{\"bgcolor\":\"#506784\",\"borderwidth\":0},\"xaxis\":{\"automargin\":true,\"gridcolor\":\"#283442\",\"linecolor\":\"#506784\",\"ticks\":\"\",\"title\":{\"standoff\":15},\"zerolinecolor\":\"#283442\",\"zerolinewidth\":2},\"yaxis\":{\"automargin\":true,\"gridcolor\":\"#283442\",\"linecolor\":\"#506784\",\"ticks\":\"\",\"title\":{\"standoff\":15},\"zerolinecolor\":\"#283442\",\"zerolinewidth\":2}}},\"xaxis\":{\"anchor\":\"y\",\"domain\":[0.0,1.0],\"title\":{\"text\":\"weight\"}},\"yaxis\":{\"anchor\":\"x\",\"domain\":[0.0,1.0],\"title\":{\"text\":\"max_stress\"}},\"legend\":{\"tracegroupgap\":0},\"margin\":{\"t\":60}},                        {\"responsive\": true}                    ).then(function(){\n",
       "                            \n",
       "var gd = document.getElementById('a14bb8a1-cb98-49fb-a865-0a5dff41f865');\n",
       "var x = new MutationObserver(function (mutations, observer) {{\n",
       "        var display = window.getComputedStyle(gd).display;\n",
       "        if (!display || display === 'none') {{\n",
       "            console.log([gd, 'removed!']);\n",
       "            Plotly.purge(gd);\n",
       "            observer.disconnect();\n",
       "        }}\n",
       "}});\n",
       "\n",
       "// Listen for the removal of the full notebook cells\n",
       "var notebookContainer = gd.closest('#notebook-container');\n",
       "if (notebookContainer) {{\n",
       "    x.observe(notebookContainer, {childList: true});\n",
       "}}\n",
       "\n",
       "// Listen for the clearing of the current output cell\n",
       "var outputEl = gd.closest('.output');\n",
       "if (outputEl) {{\n",
       "    x.observe(outputEl, {childList: true});\n",
       "}}\n",
       "\n",
       "                        })                };                });            </script>        </div>"
      ]
     },
     "metadata": {},
     "output_type": "display_data"
    }
   ],
   "source": [
    "import plotly.express as px\n",
    "fig1 = px.histogram(df, x=\"weight\", nbins=20, template=\"plotly_dark\")\n",
    "fig1.show()\n",
    "fig2 = px.scatter(df, x='weight', y='max_stress',  template=\"plotly_dark\")\n",
    "fig2.show()"
   ]
  },
  {
   "cell_type": "code",
   "execution_count": null,
   "id": "9208908a-91b0-4eb7-92af-465abd89692c",
   "metadata": {},
   "outputs": [],
   "source": []
  }
 ],
 "metadata": {
  "kernelspec": {
   "display_name": "Python 3 (ipykernel)",
   "language": "python",
   "name": "python3"
  },
  "language_info": {
   "codemirror_mode": {
    "name": "ipython",
    "version": 3
   },
   "file_extension": ".py",
   "mimetype": "text/x-python",
   "name": "python",
   "nbconvert_exporter": "python",
   "pygments_lexer": "ipython3",
   "version": "3.7.9"
  }
 },
 "nbformat": 4,
 "nbformat_minor": 5
}
